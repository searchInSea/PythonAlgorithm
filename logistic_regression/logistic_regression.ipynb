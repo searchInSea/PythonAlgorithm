{
 "cells": [
  {
   "cell_type": "markdown",
   "metadata": {},
   "source": [
    "# 公式"
   ]
  },
  {
   "cell_type": "raw",
   "metadata": {},
   "source": [
    "z(i) = w1*x1(i)+w2*x2(i)+b \n",
    "y_hat(i) = 1/(1+exp(z(i))) \n",
    "L_i(y,y_hat) = -[ylog(y_hat(i))+(1-y)log(1-y_hat(i))]\n",
    "J = sum(L_i)/m\n",
    "\n",
    "da=dy_hat = dL_i/dy_hat(导数形式的写法，和前面不统一) = -y/y_hat(i)+(1-y)/(1-y_hat(i))\n",
    "dz = da*"
   ]
  },
  {
   "cell_type": "markdown",
   "metadata": {},
   "source": [
    "# 生成输入数据"
   ]
  },
  {
   "cell_type": "code",
   "execution_count": 2,
   "metadata": {},
   "outputs": [],
   "source": [
    "%matplotlib inline"
   ]
  },
  {
   "cell_type": "code",
   "execution_count": 23,
   "metadata": {},
   "outputs": [
    {
     "data": {
      "image/png": "[encoded data removed]",
      "text/plain": [
       "<Figure size 432x288 with 1 Axes>"
      ]
     },
     "metadata": {
      "needs_background": "light"
     },
     "output_type": "display_data"
    },
    {
     "name": "stdout",
     "output_type": "stream",
     "text": [
      "X12= [[  3.07692696   8.71026354   6.99625905   9.74634244   3.90766438\n",
      "    5.58253379   4.84832834   1.16051513   1.66904953   7.56041608]\n",
      " [-74.74419628  13.23542285   6.91375584 -20.54781009 -48.47605524\n",
      "   33.25449461  65.53604994  27.75646367  21.03477983  51.73137282]] \n",
      "Y= [[0. 0. 0. 0. 0. 1. 1. 1. 1. 1.]]\n"
     ]
    }
   ],
   "source": [
    "import numpy as np\n",
    "import random\n",
    "import matplotlib.pyplot as plt\n",
    "\n",
    "def generateOriginData(samNum):\n",
    "    X1 = np.random.random((samNum, 1)) * 10\n",
    "    Y = np.zeros((samNum, 1))\n",
    "    Y[(samNum // 2):] = 1\n",
    "    # print(Y)\n",
    "    # print(X1)\n",
    "    X2 = 3 * X1 + 10\n",
    "    # print(X2)\n",
    "    plt.plot(X1, X2)\n",
    "    offset = np.random.uniform(1, 100, size=(samNum, 1))\n",
    "    X2[0:samNum // 2] -= offset[0:samNum // 2]\n",
    "    X2[samNum // 2:] += offset[samNum // 2:]\n",
    "    plt.scatter(X1[:samNum // 2], X2[:samNum // 2], marker='*', color='g')\n",
    "    plt.scatter(X1[samNum // 2:], X2[samNum // 2:], marker='+', color='r')\n",
    "    X12 = np.append(X1, X2, axis=1)\n",
    "    plt.show()\n",
    "    print('X12=', X12.T, '\\nY=', Y.T)\n",
    "    return (X12,Y)\n",
    "\n",
    "samNum = 10\n",
    "X12,Y = generateOriginData(samNum)"
   ]
  },
  {
   "cell_type": "markdown",
   "metadata": {},
   "source": [
    "# 求解"
   ]
  },
  {
   "cell_type": "code",
   "execution_count": 24,
   "metadata": {},
   "outputs": [
    {
     "name": "stdout",
     "output_type": "stream",
     "text": [
      "A= [[1.21199867e-06 1.68088329e-01 1.29840860e-01 5.06849696e-04\n",
      "  6.32352330e-05 9.53720430e-01 9.99822699e-01 9.82324469e-01\n",
      "  9.36842880e-01 9.94570119e-01]]\n",
      "W= [[-0.430326  ]\n",
      " [ 0.16463865]]  B= [[-0.04003894]] W1/W2= [0.38259053]\n",
      "J= 0.04597595978516718 Jprev= 0.046394326009852535 J-Jprev= -0.000418366224685357 cunt= 100\n"
     ]
    },
    {
     "data": {
      "image/png": "[encoded data removed]",
      "text/plain": [
       "<Figure size 432x288 with 1 Axes>"
      ]
     },
     "metadata": {
      "needs_background": "light"
     },
     "output_type": "display_data"
    }
   ],
   "source": [
    "def plotLine(X1, X2, W, B):\n",
    "    X1 = np.array(X1).reshape(len(X1), 1)\n",
    "    X2 = np.array(X2).reshape(len(X2), 1)\n",
    "    plt.plot(X1, -(W[0] / W[1] * X1) - B)\n",
    "    plt.scatter(X1[:samNum // 2], X2[:samNum // 2], marker='*', color='g')\n",
    "    plt.scatter(X1[samNum // 2:], X2[samNum // 2:], marker='+', color='r')\n",
    "    plt.show()\n",
    "\n",
    "W = np.zeros((2, 1))  # 只有2个特征\n",
    "B = np.zeros((1, 1))\n",
    "\n",
    "X12 = X12.T  # 变成两行,每一列都是一个样点\n",
    "#X12 = np.array([[3.41827387,2.84210487,   5.46492579,   1.37031555],[-28.43534583, -21.74959217,  31.71029071,  45.06466409]])\n",
    "effect = np.array([[0.01],])\n",
    "Jprev = 1;\n",
    "Jcuren = 0xFFFFFFFF\n",
    "cnt = 0;\n",
    "while (Jcuren - Jprev < -10e-5 or cnt < 15) and cnt < 100:  #避免前几次迭代不稳定，导致J下降不明显\n",
    "    cnt+=1\n",
    "    Z = np.dot(W.T, X12) + B\n",
    "    Z = Z.T\n",
    "    # print('z=',Z.T)\n",
    "    A = 1 / (1 + np.exp(-Z))\n",
    "    #print('A=',A.T)\n",
    "    L = [Y * np.log(A) + (1 - Y) * np.log(1 - A)] * np.array([-1])\n",
    "    #     # print('L*-1=',L*(np.array([-1])))\n",
    "    #print('L=',L.T)\n",
    "    Jprev = Jcuren;\n",
    "    Jcuren = np.sum(L) / samNum\n",
    "    #print('J=', Jcuren, 'Jprev=', Jprev, 'J-Jprev=',Jcuren-Jprev,  'cunt=',cnt)\n",
    "\n",
    "    dA = -Y / A + (1 - Y) / (1 - A)\n",
    "    dZ = dA * (A * (1 - A))\n",
    "    dW = dZ * (X12.T)\n",
    "    dB = dZ\n",
    "\n",
    "    dWAve = np.sum(dW, axis=0) / samNum\n",
    "    dBAve = np.sum(dB, axis=0) / samNum\n",
    "    dWAve = np.array(dWAve).reshape(len(dWAve), 1)\n",
    "    dBAve = np.array(dBAve).reshape(len(dBAve), 1)\n",
    "    # print('dWAve=',dWAve)\n",
    "    # print('dBAve=',dBAve)\n",
    "    W = W - effect * dWAve\n",
    "    B = B - effect * dBAve\n",
    "    \n",
    "print('A=',A.T)\n",
    "print('W=', W, ' B=', B, 'W1/W2=', -W[1] / W[0])\n",
    "print('J=', Jcuren, 'Jprev=', Jprev, 'J-Jprev=',Jcuren-Jprev,  'cunt=',cnt)\n",
    "plotLine(X12[0], X12[1], W, B)"
   ]
  },
  {
   "cell_type": "markdown",
   "metadata": {},
   "source": [
    "# 结果"
   ]
  },
  {
   "cell_type": "raw",
   "metadata": {},
   "source": [
    "从A的计算结果看：\n",
    "A= [[1.21199867e-06 1.68088329e-01 1.29840860e-01 5.06849696e-04 6.32352330e-05    #前5个数据都是小于0.5\n",
    "  9.53720430e-01 9.99822699e-01 9.82324469e-01 9.36842880e-01 9.94570119e-01]]   #后面5个数据都是大于0.5的，满足训练集的分类要求"
   ]
  },
  {
   "cell_type": "code",
   "execution_count": null,
   "metadata": {},
   "outputs": [],
   "source": []
  },
  {
   "cell_type": "code",
   "execution_count": null,
   "metadata": {},
   "outputs": [],
   "source": []
  },
  {
   "cell_type": "code",
   "execution_count": null,
   "metadata": {},
   "outputs": [],
   "source": []
  },
  {
   "cell_type": "code",
   "execution_count": null,
   "metadata": {},
   "outputs": [],
   "source": []
  }
 ],
 "metadata": {
  "kernelspec": {
   "display_name": "Python 3",
   "language": "python",
   "name": "python3"
  },
  "language_info": {
   "codemirror_mode": {
    "name": "ipython",
    "version": 3
   },
   "file_extension": ".py",
   "mimetype": "text/x-python",
   "name": "python",
   "nbconvert_exporter": "python",
   "pygments_lexer": "ipython3",
   "version": "3.5.4rc1"
  }
 },
 "nbformat": 4,
 "nbformat_minor": 2
}
